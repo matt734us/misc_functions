{
 "cells": [
  {
   "cell_type": "markdown",
   "metadata": {},
   "source": [
    "<h3>Define function for dataframe and variable indicating which column postcode is located</h3>"
   ]
  },
  {
   "cell_type": "code",
   "execution_count": null,
   "metadata": {},
   "outputs": [],
   "source": [
    "def split_postcode(dataframe, postcode_col):\n",
    "    postcode_split = dataframe[postcode_col].str.split(expand=True).rename(columns={0:'outward', 1:'inward'})\n",
    "    outward_split = postcode_split['outward'].str.extract(r'([A-Z]{1,2})([0-9A-Z]{1,2})').rename(columns={0:'area', 1:'district'})\n",
    "    inward_split = postcode_split['inward'].str.extract(r'([0-9])([A-Z]{2})').rename(columns={0:'sector', 1:'unit'})\n",
    "    dataframe = pd.concat([dataframe, postcode_split, outward_split, inward_split], axis=1)\n",
    "    dataframe['outward_area'] = dataframe['outward'] + ' ' + dataframe['sector']\n",
    "    return dataframe"
   ]
  },
  {
   "cell_type": "markdown",
   "metadata": {},
   "source": [
    "<h3>Detailed breakdown</h3>"
   ]
  },
  {
   "cell_type": "code",
   "execution_count": null,
   "metadata": {},
   "outputs": [],
   "source": [
    "def split_postcode(dataframe, postcode_col):"
   ]
  },
  {
   "cell_type": "markdown",
   "metadata": {},
   "source": [
    "<h3>Split the postcode column where a space occurs into two columns, renaming them outward and inward</h3>"
   ]
  },
  {
   "cell_type": "code",
   "execution_count": null,
   "metadata": {},
   "outputs": [],
   "source": [
    "    postcode_split = dataframe[postcode_col].str.split(expand=True).rename(columns={0:'outward', 1:'inward'})"
   ]
  },
  {
   "cell_type": "markdown",
   "metadata": {},
   "source": [
    "<h3>Using regular expressions extract alpha characters of length 1 or 2 first, second extract apha-numeric characters or length 1 or 2. Rename columns</h3>"
   ]
  },
  {
   "cell_type": "code",
   "execution_count": null,
   "metadata": {},
   "outputs": [],
   "source": [
    "    outward_split = postcode_split['outward'].str.extract(r'([A-Z]{1,2})([0-9A-Z]{1,2})').rename(columns={0:'area', 1:'district'})"
   ]
  },
  {
   "cell_type": "markdown",
   "metadata": {},
   "source": [
    "<h3>Using regular expressions extract alpha characters of any length first, second extract apha-numeric characters or length 2. Rename columns</h3>"
   ]
  },
  {
   "cell_type": "code",
   "execution_count": null,
   "metadata": {},
   "outputs": [],
   "source": [
    "    inward_split = postcode_split['inward'].str.extract(r'([0-9])([A-Z]{2})').rename(columns={0:'sector', 1:'unit'})"
   ]
  },
  {
   "cell_type": "markdown",
   "metadata": {},
   "source": [
    "<h3>Concatenate partial postcode columns above to original dataframe</h3>"
   ]
  },
  {
   "cell_type": "code",
   "execution_count": null,
   "metadata": {},
   "outputs": [],
   "source": [
    "    dataframe = pd.concat([dataframe, postcode_split, outward_split, inward_split], axis=1)"
   ]
  },
  {
   "cell_type": "markdown",
   "metadata": {},
   "source": [
    "<h3>Create a further column combining outward and sector columns. Return data</h3>"
   ]
  },
  {
   "cell_type": "code",
   "execution_count": null,
   "metadata": {},
   "outputs": [],
   "source": [
    "    dataframe['outward_area'] = dataframe['outward'] + ' ' + dataframe['sector']\n",
    "    return dataframe"
   ]
  }
 ],
 "metadata": {
  "kernelspec": {
   "display_name": "Python 3",
   "language": "python",
   "name": "python3"
  },
  "language_info": {
   "codemirror_mode": {
    "name": "ipython",
    "version": 3
   },
   "file_extension": ".py",
   "mimetype": "text/x-python",
   "name": "python",
   "nbconvert_exporter": "python",
   "pygments_lexer": "ipython3",
   "version": "3.6.5"
  }
 },
 "nbformat": 4,
 "nbformat_minor": 2
}
