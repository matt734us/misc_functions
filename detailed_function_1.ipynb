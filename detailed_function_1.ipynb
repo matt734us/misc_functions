{
 "cells": [
  {
   "cell_type": "markdown",
   "metadata": {},
   "source": [
    "<h3>Define function with a dataframe input and three further variables</h3>"
   ]
  },
  {
   "cell_type": "code",
   "execution_count": null,
   "metadata": {},
   "outputs": [],
   "source": [
    "def getDailyPat(orderLevelData, byColumn, categoryHead, minCount):\n",
    "    orderGroup = orderLevelData[['date'] + byColumn + ['DoW']].groupby(byColumn + ['DoW']).count().reset_index()\n",
    "    orderGroup.columns = byColumn + ['DoW', 'count']\n",
    "    orderGroupPivot = pd.pivot_table(orderGroup, values=['count'], index=byColumn,\n",
    "                        columns=['DoW'], aggfunc=np.sum, fill_value=0).reset_index(drop=False)   \n",
    "    orderGroupPivot.columns = byColumn + [0, 1, 2, 3, 4]\n",
    "    orderGroupPivot['var1' + categoryHead] = '00000'\n",
    "    orderGroupPivot['var2' + categoryHead] = 'out1'\n",
    "    for index, row in orderGroupPivot.iterrows():   \n",
    "        patCat = 'out1'\n",
    "        amend = []\n",
    "        currDelPat = row['var3']\n",
    "        for i in range(5):\n",
    "            if row[i] > minCount:\n",
    "                amend.append('1')\n",
    "                if (currDelPat[i] == '0'):\n",
    "                    patCat = 'out2'\n",
    "            else:\n",
    "                amend.append('0')\n",
    "                if (currDelPat[i] == '1') and (patCat != 'out2'):\n",
    "                    patCat = 'out3'\n",
    "        orderPattern = ''.join(amend)\n",
    "        if orderPattern == '00000':\n",
    "            patCat = 'out4'\n",
    "        orderGroupPivot.loc[index, 'var1' + categoryHead] = orderPattern\n",
    "        orderGroupPivot.loc[index, 'var2' + categoryHead] = patCat\n",
    "    orderGroupPivot = orderGroupPivot.drop([0,1,2,3,4], axis=1)\n",
    "    return orderGroupPivot"
   ]
  },
  {
   "cell_type": "markdown",
   "metadata": {},
   "source": [
    "<h3>Detailed breakdown</h3>"
   ]
  },
  {
   "cell_type": "code",
   "execution_count": null,
   "metadata": {},
   "outputs": [],
   "source": [
    "def getDailyPat(orderLevelData, byColumn, categoryHead, minCount):"
   ]
  },
  {
   "cell_type": "markdown",
   "metadata": {},
   "source": [
    "<h3>Get subset of order level data columns and groupby bycolumn and day of week, values are counts of records</h3>"
   ]
  },
  {
   "cell_type": "code",
   "execution_count": null,
   "metadata": {},
   "outputs": [],
   "source": [
    "    orderGroup = orderLevelData[['date'] + byColumn + ['DoW']].groupby(byColumn + ['DoW']).count().reset_index()"
   ]
  },
  {
   "cell_type": "markdown",
   "metadata": {},
   "source": [
    "<h3>Rename columns</h3>"
   ]
  },
  {
   "cell_type": "code",
   "execution_count": null,
   "metadata": {},
   "outputs": [],
   "source": [
    "    orderGroup.columns = byColumn + ['DoW', 'count']"
   ]
  },
  {
   "cell_type": "markdown",
   "metadata": {},
   "source": [
    "<h3>Convert data from transactional to pivoted with day of week as columns</h3>"
   ]
  },
  {
   "cell_type": "code",
   "execution_count": null,
   "metadata": {},
   "outputs": [],
   "source": [
    "    orderGroupPivot = pd.pivot_table(orderGroup, values=['count'], index=byColumn,\n",
    "                        columns=['DoW'], aggfunc=np.sum, fill_value=0).reset_index(drop=False)"
   ]
  },
  {
   "cell_type": "markdown",
   "metadata": {},
   "source": [
    "<h3>Rename columns</h3>"
   ]
  },
  {
   "cell_type": "code",
   "execution_count": null,
   "metadata": {},
   "outputs": [],
   "source": [
    "    orderGroupPivot.columns = byColumn + [0, 1, 2, 3, 4]"
   ]
  },
  {
   "cell_type": "markdown",
   "metadata": {},
   "source": [
    "<h3>Create two new columns with static data</h3>"
   ]
  },
  {
   "cell_type": "code",
   "execution_count": null,
   "metadata": {},
   "outputs": [],
   "source": [
    "    orderGroupPivot['var1' + categoryHead] = '00000'\n",
    "    orderGroupPivot['var2' + categoryHead] = 'out1'"
   ]
  },
  {
   "cell_type": "markdown",
   "metadata": {},
   "source": [
    "<h3>Loop over the orderGroupPivot dataframe</h3>"
   ]
  },
  {
   "cell_type": "code",
   "execution_count": null,
   "metadata": {},
   "outputs": [],
   "source": [
    "    for index, row in orderGroupPivot.iterrows():   "
   ]
  },
  {
   "cell_type": "markdown",
   "metadata": {},
   "source": [
    "<h3>Create variable with string value out1, create empty list and create variable with value in current rows var3 column</h3>"
   ]
  },
  {
   "cell_type": "code",
   "execution_count": null,
   "metadata": {},
   "outputs": [],
   "source": [
    "        patCat = 'out1'\n",
    "        amend = []\n",
    "        currDelPat = row['var3']"
   ]
  },
  {
   "cell_type": "markdown",
   "metadata": {},
   "source": [
    "<h3>Loop over 5 days, can use range as days are represented as numbers 0 to 4</h3>"
   ]
  },
  {
   "cell_type": "code",
   "execution_count": null,
   "metadata": {},
   "outputs": [],
   "source": [
    "        for i in range(5):"
   ]
  },
  {
   "cell_type": "markdown",
   "metadata": {},
   "source": [
    "<h3>If statement to check if current days row value is greater than minCount variable</h3>"
   ]
  },
  {
   "cell_type": "code",
   "execution_count": null,
   "metadata": {},
   "outputs": [],
   "source": [
    "            if row[i] > minCount:"
   ]
  },
  {
   "cell_type": "markdown",
   "metadata": {},
   "source": [
    "<h3>Append 1 if true</h3>"
   ]
  },
  {
   "cell_type": "code",
   "execution_count": null,
   "metadata": {},
   "outputs": [],
   "source": [
    "                amend.append('1')"
   ]
  },
  {
   "cell_type": "markdown",
   "metadata": {},
   "source": [
    "<h3>Check if corresponding day in current pattern is 0, if it is change variable patCat to out2</h3>"
   ]
  },
  {
   "cell_type": "code",
   "execution_count": null,
   "metadata": {},
   "outputs": [],
   "source": [
    "                if (currDelPat[i] == '0'):\n",
    "                    patCat = 'out2'"
   ]
  },
  {
   "cell_type": "markdown",
   "metadata": {},
   "source": [
    "<h3>Append 0 if false</h3>"
   ]
  },
  {
   "cell_type": "code",
   "execution_count": null,
   "metadata": {},
   "outputs": [],
   "source": [
    "            else:\n",
    "                amend.append('0')"
   ]
  },
  {
   "cell_type": "markdown",
   "metadata": {},
   "source": [
    "<h3>Check if corresponding day in current pattern is 1 and patCat is not out2, if True change patCat to out3</h3>"
   ]
  },
  {
   "cell_type": "code",
   "execution_count": null,
   "metadata": {},
   "outputs": [],
   "source": [
    "                if (currDelPat[i] == '1') and (patCat != 'out2'):\n",
    "                    patCat = 'out3'"
   ]
  },
  {
   "cell_type": "markdown",
   "metadata": {},
   "source": [
    "<h3>Join amend list to create a 5 digit string and assign to variable order pattern</h3>"
   ]
  },
  {
   "cell_type": "code",
   "execution_count": null,
   "metadata": {},
   "outputs": [],
   "source": [
    "        orderPattern = ''.join(amend)"
   ]
  },
  {
   "cell_type": "markdown",
   "metadata": {},
   "source": [
    "<h3>If joined pattern is 00000 change patCat variable to Infrequent</h3>"
   ]
  },
  {
   "cell_type": "code",
   "execution_count": null,
   "metadata": {},
   "outputs": [],
   "source": [
    "        if orderPattern == '00000':\n",
    "            patCat = 'out4'"
   ]
  },
  {
   "cell_type": "markdown",
   "metadata": {},
   "source": [
    "<h3>Set index location/column header cell to orderPattern and patCat variables</h3>"
   ]
  },
  {
   "cell_type": "code",
   "execution_count": null,
   "metadata": {},
   "outputs": [],
   "source": [
    "        orderGroupPivot.loc[index, 'var1' + categoryHead] = orderPattern\n",
    "        orderGroupPivot.loc[index, 'var2' + categoryHead] = patCat"
   ]
  },
  {
   "cell_type": "markdown",
   "metadata": {},
   "source": [
    "<h3>Drop columns and return dataframe</h3>"
   ]
  },
  {
   "cell_type": "code",
   "execution_count": null,
   "metadata": {},
   "outputs": [],
   "source": [
    "    orderGroupPivot = orderGroupPivot.drop([0,1,2,3,4], axis=1)\n",
    "    return orderGroupPivot"
   ]
  }
 ],
 "metadata": {
  "kernelspec": {
   "display_name": "Python 3",
   "language": "python",
   "name": "python3"
  },
  "language_info": {
   "codemirror_mode": {
    "name": "ipython",
    "version": 3
   },
   "file_extension": ".py",
   "mimetype": "text/x-python",
   "name": "python",
   "nbconvert_exporter": "python",
   "pygments_lexer": "ipython3",
   "version": "3.6.5"
  }
 },
 "nbformat": 4,
 "nbformat_minor": 2
}
