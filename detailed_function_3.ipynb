{
 "cells": [
  {
   "cell_type": "markdown",
   "metadata": {},
   "source": [
    "<h3>Define function to get the closest date from a list of dates when comparing to current date</h3>"
   ]
  },
  {
   "cell_type": "code",
   "execution_count": null,
   "metadata": {},
   "outputs": [],
   "source": [
    "def nearest(items, row):\n",
    "    return min(items, key=lambda x: abs(x - row['deliveryDate']))"
   ]
  },
  {
   "cell_type": "markdown",
   "metadata": {},
   "source": [
    "<h3>Function to create dummy columns for bank holidays, then a number of days columns between date in row and closest bank holiday date. Takes a dataframe of dated transactions as input</h3>"
   ]
  },
  {
   "cell_type": "code",
   "execution_count": null,
   "metadata": {},
   "outputs": [],
   "source": [
    "def holsDiff(df):\n",
    "    holidays = pd.read_csv('../bankholidayfile.csv')\n",
    "    holidays['ds'] = pd.to_datetime(holidays['ds'], format='%d/%m/%Y', errors='coerce')\n",
    "    datesList = holidays['ds'].tolist()\n",
    "    df['ds'] = df.apply(lambda row: nearest (datesList, row),axis=1)\n",
    "\n",
    "    df = df.merge(holidays, on='ds', how='inner')\n",
    "\n",
    "    df = pd.get_dummies(df, prefix=['holiday'], columns=['holiday'])\n",
    "    df['holidayDays'] = (df['ds'] - df['deliveryDate']).dt.days\n",
    "    df = df.drop('ds', axis=1)\n",
    "\n",
    "    return df"
   ]
  },
  {
   "cell_type": "markdown",
   "metadata": {},
   "source": [
    "<h3>Detailed breakdown</h3>"
   ]
  },
  {
   "cell_type": "markdown",
   "metadata": {},
   "source": [
    "<h3>Return corresponding item when minimum absolute difference between key, which is a date, and date in row</h3>"
   ]
  },
  {
   "cell_type": "code",
   "execution_count": null,
   "metadata": {},
   "outputs": [],
   "source": [
    "def nearest(items, row):\n",
    "    return min(items, key=lambda x: abs(x - row['deliveryDate']))"
   ]
  },
  {
   "cell_type": "markdown",
   "metadata": {},
   "source": [
    "<h3>Define holidays difference function</h3>"
   ]
  },
  {
   "cell_type": "code",
   "execution_count": null,
   "metadata": {},
   "outputs": [],
   "source": [
    "def holsDiff(df):"
   ]
  },
  {
   "cell_type": "markdown",
   "metadata": {},
   "source": [
    "<h3>Read list of bank holidays csv into memory</h3>"
   ]
  },
  {
   "cell_type": "code",
   "execution_count": null,
   "metadata": {},
   "outputs": [],
   "source": [
    "    holidays = pd.read_csv('../bankholidayfile.csv')"
   ]
  },
  {
   "cell_type": "markdown",
   "metadata": {},
   "source": [
    "<h3>Convert ds(date) object data to date datatype</h3>"
   ]
  },
  {
   "cell_type": "code",
   "execution_count": null,
   "metadata": {},
   "outputs": [],
   "source": [
    "    holidays['ds'] = pd.to_datetime(holidays['ds'], format='%d/%m/%Y', errors='coerce')"
   ]
  },
  {
   "cell_type": "markdown",
   "metadata": {},
   "source": [
    "<h3>Create list from ds column</h3>"
   ]
  },
  {
   "cell_type": "code",
   "execution_count": null,
   "metadata": {},
   "outputs": [],
   "source": [
    "    datesList = holidays['ds'].tolist()"
   ]
  },
  {
   "cell_type": "markdown",
   "metadata": {},
   "source": [
    "<h3>Apply lambda function using above defined function to create a column of bank holiday dates</h3>"
   ]
  },
  {
   "cell_type": "code",
   "execution_count": null,
   "metadata": {},
   "outputs": [],
   "source": [
    "    df['ds'] = df.apply(lambda row: nearest (datesList, row),axis=1)"
   ]
  },
  {
   "cell_type": "markdown",
   "metadata": {},
   "source": [
    "<h3>Merge dataframe with bank holiday list on bank holiday date to get a column of bankholidays closest to transaction date</h3>"
   ]
  },
  {
   "cell_type": "code",
   "execution_count": null,
   "metadata": {},
   "outputs": [],
   "source": [
    "    df = df.merge(holidays, on='ds', how='inner')"
   ]
  },
  {
   "cell_type": "markdown",
   "metadata": {},
   "source": [
    "<h3>Using pandas get_dummies function change the single column for name of bank holiday to a column for each bank holiday and a 0 or 1 to determine if that bank holiday applies ot that row</h3>"
   ]
  },
  {
   "cell_type": "code",
   "execution_count": null,
   "metadata": {},
   "outputs": [],
   "source": [
    "    df = pd.get_dummies(df, prefix=['holiday'], columns=['holiday'])"
   ]
  },
  {
   "cell_type": "markdown",
   "metadata": {},
   "source": [
    "<h3>Create column of the number of days between closest bank holiday and transaciton date</h3>"
   ]
  },
  {
   "cell_type": "code",
   "execution_count": null,
   "metadata": {},
   "outputs": [],
   "source": [
    "    df['holidayDays'] = (df['ds'] - df['deliveryDate']).dt.days"
   ]
  },
  {
   "cell_type": "markdown",
   "metadata": {},
   "source": [
    "<h3>Return new dataframe dropping date of bank holiday</h3>"
   ]
  },
  {
   "cell_type": "code",
   "execution_count": null,
   "metadata": {},
   "outputs": [],
   "source": [
    "    return df.drop('ds', axis=1)"
   ]
  }
 ],
 "metadata": {
  "kernelspec": {
   "display_name": "Python 3",
   "language": "python",
   "name": "python3"
  },
  "language_info": {
   "codemirror_mode": {
    "name": "ipython",
    "version": 3
   },
   "file_extension": ".py",
   "mimetype": "text/x-python",
   "name": "python",
   "nbconvert_exporter": "python",
   "pygments_lexer": "ipython3",
   "version": "3.6.5"
  }
 },
 "nbformat": 4,
 "nbformat_minor": 2
}
